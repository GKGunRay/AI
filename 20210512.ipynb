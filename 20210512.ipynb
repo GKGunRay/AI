{
  "nbformat": 4,
  "nbformat_minor": 0,
  "metadata": {
    "colab": {
      "name": "20210512.ipynb",
      "provenance": [],
      "collapsed_sections": []
    },
    "kernelspec": {
      "name": "python3",
      "display_name": "Python 3"
    },
    "language_info": {
      "name": "python"
    }
  },
  "cells": [
    {
      "cell_type": "code",
      "metadata": {
        "id": "XR2xlqYVT9qz",
        "colab": {
          "base_uri": "https://localhost:8080/",
          "height": 337
        },
        "outputId": "761f303c-bf76-4028-b57f-b66654fff9f5"
      },
      "source": [
        "import numpy as np\n",
        "\n",
        "from sklearn.model_selection import train_test_split\n",
        "from sklearn.cluster import KMeans\n",
        "from time import time\n",
        "import numpy as np\n",
        "import matplotlib.pyplot as plt\n",
        "\n",
        "from sklearn import metrics\n",
        "\n",
        "X= np.array([[1,1],[1.1,1.1],[1.2,1.2],[2,2],[2.1,2.1],[2.2,2.2]])\n",
        "Y=[1,1,1,0,0,0]\n",
        "kmeans = KMeans(n_clusters=2, random_state=0).fit(X)\n",
        "print(\"集群中心的座標：\", kmeans.cluster_centers_)\n",
        "print(\"預測：\", kmeans.predict(X))\n",
        "print(\"實際：\",Y)\n",
        "print(\"預測[1,1],[2.3,2.1]：\", kmeans.predict([[1,1],[2.3,2.1]]))\n",
        "\n",
        "plt.axis([0,3,0,3])\n",
        "plt.plot(X[:3,0], X[:3,1], 'yx')\n",
        "plt.plot(X[3:,0], X[3:,1], 'g.')\n",
        "plt.plot(kmeans.cluster_centers_[:,0], kmeans.cluster_centers_[:,1], 'ro')\n",
        "plt.xticks(())\n",
        "plt.yticks(())\n",
        "plt.show()"
      ],
      "execution_count": null,
      "outputs": [
        {
          "output_type": "stream",
          "text": [
            "集群中心的座標： [[2.1 2.1]\n",
            " [1.1 1.1]]\n",
            "預測： [1 1 1 0 0 0]\n",
            "實際： [1, 1, 1, 0, 0, 0]\n",
            "預測[1,1],[2.3,2.1]： [1 0]\n"
          ],
          "name": "stdout"
        },
        {
          "output_type": "display_data",
          "data": {
            "image/png": "[encoded data removed]",
            "text/plain": [
              "<Figure size 432x288 with 1 Axes>"
            ]
          },
          "metadata": {
            "tags": []
          }
        }
      ]
    },
    {
      "cell_type": "code",
      "metadata": {
        "colab": {
          "base_uri": "https://localhost:8080/"
        },
        "id": "vCJ3EalcZFJI",
        "outputId": "80034729-e1c0-422e-d28a-b60aa62d516d"
      },
      "source": [
        "import matplotlib.pyplot as plt\n",
        "import numpy as np\n",
        "from sklearn import datasets\n",
        "from sklearn.model_selection import train_test_split\n",
        "from sklearn.cluster import KMeans\n",
        "\n",
        "iris = datasets.load_iris()\n",
        "\n",
        "iris_X_train, iris_X_test, iris_Y_train, iris_Y_test = train_test_split(iris.data, iris.target, test_size=0.2)\n",
        "\n",
        "kmeans = KMeans(n_clusters=2)\n",
        "kmeans_fit = kmeans.fit(iris_X_train)\n",
        "\n",
        "print(\"實際：\", iris_Y_train)\n",
        "print(\"預測：\", kmeans_fit.labels_)\n",
        "\n",
        "iris_Y_train[iris_Y_train==1]=11\n",
        "iris_Y_train[iris_Y_train==0]=1\n",
        "iris_Y_train[iris_Y_train==11]=0\n",
        "print(\"調整：\", iris_Y_train)\n",
        "\n",
        "score = metrics.accuracy_score(iris_Y_train, kmeans.predict(iris_X_train))\n",
        "print(\"準確率：{0:f}\".format(score))"
      ],
      "execution_count": null,
      "outputs": [
        {
          "output_type": "stream",
          "text": [
            "實際： [2 0 1 0 1 1 0 2 1 2 1 0 0 0 0 2 1 2 2 1 2 0 2 0 2 0 2 1 0 2 1 0 0 1 0 2 2\n",
            " 2 0 1 1 0 1 1 2 1 2 2 0 0 1 1 2 2 0 0 0 2 2 2 1 1 0 2 1 2 1 1 0 0 2 2 2 0\n",
            " 0 0 0 0 2 1 0 1 0 1 1 2 2 1 0 0 1 2 1 0 0 2 2 0 0 1 1 0 0 0 1 1 1 0 0 0 2\n",
            " 2 0 1 1 2 1 2 2 2]\n",
            "預測： [0 1 0 1 0 0 1 0 0 0 0 1 1 1 1 0 1 0 0 0 0 1 0 1 0 1 0 0 1 0 0 1 1 0 1 0 0\n",
            " 0 1 0 0 1 0 0 0 0 0 0 1 1 0 0 0 0 1 1 1 0 0 0 0 1 1 0 0 0 0 0 1 1 0 0 0 1\n",
            " 1 1 1 1 0 0 1 1 1 0 0 0 0 0 1 1 0 0 0 1 1 0 0 1 1 0 0 1 1 1 0 0 0 1 1 1 0\n",
            " 0 1 0 0 0 0 0 0 0]\n",
            "調整： [2 1 0 1 0 0 1 2 0 2 0 1 1 1 1 2 0 2 2 0 2 1 2 1 2 1 2 0 1 2 0 1 1 0 1 2 2\n",
            " 2 1 0 0 1 0 0 2 0 2 2 1 1 0 0 2 2 1 1 1 2 2 2 0 0 1 2 0 2 0 0 1 1 2 2 2 1\n",
            " 1 1 1 1 2 0 1 0 1 0 0 2 2 0 1 1 0 2 0 1 1 2 2 1 1 0 0 1 1 1 0 0 0 1 1 1 2\n",
            " 2 1 0 0 2 0 2 2 2]\n",
            "準確率：0.650000\n"
          ],
          "name": "stdout"
        }
      ]
    },
    {
      "cell_type": "code",
      "metadata": {
        "colab": {
          "base_uri": "https://localhost:8080/",
          "height": 285
        },
        "id": "SOm9ISUWb60Q",
        "outputId": "2be1c1d6-76c4-4276-c23d-cea805f7e734"
      },
      "source": [
        "import matplotlib.pyplot as plt\n",
        "import numpy as np\n",
        "from sklearn import datasets\n",
        "from sklearn.model_selection import train_test_split\n",
        "from sklearn.cluster import KMeans\n",
        "from sklearn import metrics\n",
        "\n",
        "iris = datasets.load_iris()\n",
        "\n",
        "iris_X_train, iris_X_test, iris_Y_train, iris_Y_test = train_test_split(iris.data, iris.target, test_size=0.2)\n",
        "\n",
        "kmeans = KMeans(n_clusters=3)\n",
        "kmeans.fit(iris_X_train)\n",
        "Y_predict=kmeans.predict(iris_X_train)\n",
        "\n",
        "x1=iris_X_train[:,0]\n",
        "y1=iris_X_train[:,1]\n",
        "plt.scatter(x1,y1,c=Y_predict,cmap='viridis')\n",
        "\n",
        "centers=kmeans.cluster_centers_\n",
        "plt.scatter(centers[:,0], centers[:,1], c='black', s=200, alpha=0.5);\n",
        "plt.show"
      ],
      "execution_count": null,
      "outputs": [
        {
          "output_type": "execute_result",
          "data": {
            "text/plain": [
              "<function matplotlib.pyplot.show>"
            ]
          },
          "metadata": {
            "tags": []
          },
          "execution_count": 12
        },
        {
          "output_type": "display_data",
          "data": {
            "image/png": "[encoded data removed]",
            "text/plain": [
              "<Figure size 432x288 with 1 Axes>"
            ]
          },
          "metadata": {
            "tags": [],
            "needs_background": "light"
          }
        }
      ]
    },
    {
      "cell_type": "markdown",
      "metadata": {
        "id": "g8Jf9Vz7djtI"
      },
      "source": [
        "# 神經網路模型的Iris\n",
        "\n",
        "### 與分群的比較\n",
        "神經網路包含三層神經元，除了輸入和輸出層外，中間有一層隱藏層（不參與輸入或輸出，隱藏於內部；可能含一層以上），傳遞並處理資料。\n",
        "\n",
        "而分群則是在 N 筆資料中，可將資料分為 K 群。透過反覆的閱讀資料點，更新對應的群中心。每個資料點會被分配到與它最相近的群裡。\n",
        "\n",
        "\n",
        "\n",
        "### 程式碼\n",
        "出處：https://github.com/EdoVaira/Iris-Neural-Network\n",
        "\n",
        "由於是使用Tensorflow 1.x版，需先執行下方程式碼，將版本切換為1.x後restart the runtime才能執行。"
      ]
    },
    {
      "cell_type": "code",
      "metadata": {
        "colab": {
          "base_uri": "https://localhost:8080/"
        },
        "id": "Uo3tc9zyiEm1",
        "outputId": "7988a8e0-1858-486c-8631-51910ce9908b"
      },
      "source": [
        "%tensorflow_version 1.x_\n",
        "exit()"
      ],
      "execution_count": 3,
      "outputs": [
        {
          "output_type": "stream",
          "text": [
            "`%tensorflow_version` only switches the major version: 1.x or 2.x.\n",
            "You set: `1.x_`. This will be interpreted as: `1.x`.\n",
            "\n",
            "\n",
            "TensorFlow is already loaded. Please restart the runtime to change versions.\n"
          ],
          "name": "stdout"
        }
      ]
    },
    {
      "cell_type": "code",
      "metadata": {
        "colab": {
          "base_uri": "https://localhost:8080/"
        },
        "id": "fbNZkx7Mgd9C",
        "outputId": "a0b586fc-3f2a-413c-d212-2ba706e7fef4"
      },
      "source": [
        "# Dependencies\n",
        "import tensorflow as tf\n",
        "import pandas as pd\n",
        "import numpy as np\n",
        "\n",
        "# Make results reproducible\n",
        "seed = 1234\n",
        "np.random.seed(seed)\n",
        "tf.set_random_seed(seed)\n",
        "\n",
        "# Loading the dataset\n",
        "dataset = pd.read_csv('Iris_Dataset.csv')\n",
        "dataset = pd.get_dummies(dataset, columns=['Species']) # One Hot Encoding\n",
        "values = list(dataset.columns.values)\n",
        "\n",
        "y = dataset[values[-3:]]\n",
        "y = np.array(y, dtype='float32')\n",
        "X = dataset[values[1:-3]]\n",
        "X = np.array(X, dtype='float32')\n",
        "\n",
        "# Shuffle Data\n",
        "indices = np.random.choice(len(X), len(X), replace=False)\n",
        "X_values = X[indices]\n",
        "y_values = y[indices]\n",
        "\n",
        "# Creating a Train and a Test Dataset\n",
        "test_size = 10\n",
        "X_test = X_values[-test_size:]\n",
        "X_train = X_values[:-test_size]\n",
        "y_test = y_values[-test_size:]\n",
        "y_train = y_values[:-test_size]\n",
        "\n",
        "# Session\n",
        "sess = tf.Session()\n",
        "\n",
        "# Interval / Epochs\n",
        "interval = 50\n",
        "epoch = 500\n",
        "\n",
        "# Initialize placeholders\n",
        "X_data = tf.placeholder(shape=[None, 4], dtype=tf.float32)\n",
        "y_target = tf.placeholder(shape=[None, 3], dtype=tf.float32)\n",
        "\n",
        "# Input neurons : 4\n",
        "# Hidden neurons : 8\n",
        "# Output neurons : 3\n",
        "hidden_layer_nodes = 8\n",
        "\n",
        "# Create variables for Neural Network layers\n",
        "w1 = tf.Variable(tf.random_normal(shape=[4,hidden_layer_nodes])) # Inputs -> Hidden Layer\n",
        "b1 = tf.Variable(tf.random_normal(shape=[hidden_layer_nodes]))   # First Bias\n",
        "w2 = tf.Variable(tf.random_normal(shape=[hidden_layer_nodes,3])) # Hidden layer -> Outputs\n",
        "b2 = tf.Variable(tf.random_normal(shape=[3]))   # Second Bias\n",
        "\n",
        "# Operations\n",
        "hidden_output = tf.nn.relu(tf.add(tf.matmul(X_data, w1), b1))\n",
        "final_output = tf.nn.softmax(tf.add(tf.matmul(hidden_output, w2), b2))\n",
        "\n",
        "# Cost Function\n",
        "loss = tf.reduce_mean(-tf.reduce_sum(y_target * tf.log(final_output), axis=0))\n",
        "\n",
        "# Optimizer\n",
        "optimizer = tf.train.GradientDescentOptimizer(learning_rate=0.001).minimize(loss)\n",
        "\n",
        "# Initialize variables\n",
        "init = tf.global_variables_initializer()\n",
        "sess.run(init)\n",
        "\n",
        "# Training\n",
        "print('Training the model...')\n",
        "for i in range(1, (epoch + 1)):\n",
        "    sess.run(optimizer, feed_dict={X_data: X_train, y_target: y_train})\n",
        "    if i % interval == 0:\n",
        "        print('Epoch', i, '|', 'Loss:', sess.run(loss, feed_dict={X_data: X_train, y_target: y_train}))\n",
        "\n",
        "# Prediction\n",
        "print()\n",
        "for i in range(len(X_test)):\n",
        "    print('Actual:', y_test[i], 'Predicted:', np.rint(sess.run(final_output, feed_dict={X_data: [X_test[i]]})))"
      ],
      "execution_count": 4,
      "outputs": [
        {
          "output_type": "stream",
          "text": [
            "Training the model...\n",
            "Epoch 50 | Loss: 11.746563\n",
            "Epoch 100 | Loss: 7.7785707\n",
            "Epoch 150 | Loss: 6.7392106\n",
            "Epoch 200 | Loss: 6.0584755\n",
            "Epoch 250 | Loss: 5.5722713\n",
            "Epoch 300 | Loss: 5.2039094\n",
            "Epoch 350 | Loss: 4.9128094\n",
            "Epoch 400 | Loss: 4.675448\n",
            "Epoch 450 | Loss: 4.47719\n",
            "Epoch 500 | Loss: 4.3084755\n",
            "\n",
            "Actual: [0. 0. 1.] Predicted: [[0. 0. 1.]]\n",
            "Actual: [1. 0. 0.] Predicted: [[1. 0. 0.]]\n",
            "Actual: [0. 0. 1.] Predicted: [[0. 0. 1.]]\n",
            "Actual: [1. 0. 0.] Predicted: [[1. 0. 0.]]\n",
            "Actual: [1. 0. 0.] Predicted: [[1. 0. 0.]]\n",
            "Actual: [0. 0. 1.] Predicted: [[0. 0. 1.]]\n",
            "Actual: [0. 0. 1.] Predicted: [[0. 0. 1.]]\n",
            "Actual: [0. 1. 0.] Predicted: [[0. 1. 0.]]\n",
            "Actual: [1. 0. 0.] Predicted: [[1. 0. 0.]]\n",
            "Actual: [1. 0. 0.] Predicted: [[1. 0. 0.]]\n"
          ],
          "name": "stdout"
        }
      ]
    }
  ]
}