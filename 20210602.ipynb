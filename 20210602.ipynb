{
  "nbformat": 4,
  "nbformat_minor": 0,
  "metadata": {
    "colab": {
      "name": "20210602.ipynb",
      "provenance": [],
      "collapsed_sections": []
    },
    "kernelspec": {
      "name": "python3",
      "display_name": "Python 3"
    },
    "language_info": {
      "name": "python"
    }
  },
  "cells": [
    {
      "cell_type": "markdown",
      "metadata": {
        "id": "aWsYiWlLkMeP"
      },
      "source": [
        "問答系統，在使用人工智慧進行自然語言處理，大致上可以分為以下部分："
      ]
    },
    {
      "cell_type": "markdown",
      "metadata": {
        "id": "N2brapmzwVbM"
      },
      "source": [
        "#分析問題\n",
        "　　對於問題作判讀，在問題的句子中抓出關鍵字來進行下一步。\n",
        "\n",
        "　　我認為在這個步驟，還可以再細分成以下四個項目：問題分詞、實體識別、意圖識別以及問題分類。\n",
        "\n",
        "　　實體識別的目標是識別問題中哪些詞屬於實體，並且屬於什麼實體，比如「比爾．蓋茲的老婆是誰？」這個問題就包含了一個人名實體；其他的場景下可能還有地名、機構名稱以及道路名稱等實體。\n",
        "\n",
        "　　另外，根據問答系統使用者的需求，也有可能需要將問題判別的範圍，擴及到上一或前幾個問題之前作意圖判別的連結。"
      ]
    },
    {
      "cell_type": "markdown",
      "metadata": {
        "id": "rcX1Y8Ntxxhz"
      },
      "source": [
        "#分析內容\n",
        "　　在本階段，個人認為還可以再加入兩個步驟：檢索、閱讀理解。\n",
        "\n",
        "　　檢索：除了從知識圖譜之外，也可以從網頁內容開始分析。\n",
        "\n",
        "　　閱讀理解：衡量問題與資料之間的語義相關性，找出與問題最為相關的資訊。"
      ]
    },
    {
      "cell_type": "markdown",
      "metadata": {
        "id": "vk6SUJ91EkOq"
      },
      "source": [
        "#計算正面或反駁資訊的信心度\n",
        "　　擷取出所有資訊的信心度並比較，得出最可靠正面、反駁資訊作為接下來要回答的答案。"
      ]
    },
    {
      "cell_type": "markdown",
      "metadata": {
        "id": "UOulsT4qJVnq"
      },
      "source": [
        "#產生答案\n",
        "\n",
        "　　當將段落中的答案找出來之後，還需要形成一個通順的語句並反饋給使用者。\n",
        "\n",
        "　　有時候答案片段可能有多個，更需要將其串接起來形成自然語句。"
      ]
    }
  ]
}