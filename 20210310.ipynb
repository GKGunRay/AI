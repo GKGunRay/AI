{
 "cells": [
  {
   "cell_type": "code",
   "execution_count": null,
   "metadata": {},
   "outputs": [],
   "source": [
    "'''\n",
    "【Weak A.I.】\n",
    "　　弱人工智慧是一種只實現有限的一部分思維的人工智慧，或者只專注於一項狹窄的任務。\n",
    "Deep Learning\n",
    "[1]核磁共振成像像掃描中的腫瘤指標（確認影像內的物體到底是不是腫瘤）\n",
    "[2]2012年吳恩達在 Google 所製作的貓圖測試\n",
    "[3]Apple Siri\n",
    "[4]Google Map路線規劃\n",
    "Machine Learning\n",
    "[5]YouTube推薦影片演算法\n",
    "\n",
    "【Strong A.I.】\n",
    "　　目前現實生活中尚未存在「成功的強人智慧」。\n",
    "[1]HAL 9000\n",
    "'''"
   ]
  },
  {
   "cell_type": "code",
   "execution_count": null,
   "metadata": {},
   "outputs": [],
   "source": []
  }
 ],
 "metadata": {
  "kernelspec": {
   "display_name": "Python 3",
   "language": "python",
   "name": "python3"
  },
  "language_info": {
   "codemirror_mode": {
    "name": "ipython",
    "version": 3
   },
   "file_extension": ".py",
   "mimetype": "text/x-python",
   "name": "python",
   "nbconvert_exporter": "python",
   "pygments_lexer": "ipython3",
   "version": "3.7.3"
  }
 },
 "nbformat": 4,
 "nbformat_minor": 4
}
